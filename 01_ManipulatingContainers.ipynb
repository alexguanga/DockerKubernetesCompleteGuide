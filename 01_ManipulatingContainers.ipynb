{
 "cells": [
  {
   "cell_type": "markdown",
   "metadata": {},
   "source": [
    "# Manipulating Containers with the Docker Client"
   ]
  },
  {
   "cell_type": "markdown",
   "metadata": {},
   "source": [
    "## Docker Run in Detail\n",
    "\n",
    "Whenever we run a docker command (`docker run hello-world`), chances are that somewhere on our hard disk is an image that has that file system snapshot with one single program inside of it!\n",
    "\n",
    "<img src=\"./images/docker_05.png\" alt=\"Drawing\" style=\"width: 400px;\"/>\n",
    "\n",
    "<img src=\"./images/docker_06.png\" alt=\"Drawing\" style=\"width: 400px;\"/>"
   ]
  },
  {
   "cell_type": "markdown",
   "metadata": {},
   "source": [
    "## Overriding Defaults Commands\n",
    "\n",
    "Creating and Running a Container from an image:\n",
    "- `docker run <image name> command!`\n",
    "    - `docker`: Reference the Docker Client\n",
    "    - `run`: Try to create and run a container\n",
    "    - `<image_name>`: Name of image to use for this container\n",
    "    - `command!` Default command override\n",
    "    \n",
    "\n",
    "Examples:\n",
    "- `docker run busybox echo hello there`\n",
    "- `docker run busybox ls`\n",
    "    - This will output all the directories inside the busybox container\n",
    "    - Note: Realize that not all the commands like `ls` can be executed for every container because some containers do not contain those functionalities (files and directories) in their Image and thus, cannot be executed."
   ]
  },
  {
   "cell_type": "markdown",
   "metadata": {},
   "source": [
    "## Listing Running Containers\n",
    "\n",
    "\n",
    "`docker ps`:\n",
    "- List all running containers\n",
    "- `docker`: Reference the Docker Client\n",
    "- `ps`: List all running containers\n",
    "- Just remember, this doesn't work after the docker commands are already executed... will only work if the docker command is a long process like `docker run busybox ping google.com`, then we would see this running processes when we execute the `docker ps` \n",
    "\n",
    "\n",
    "`docker ps --all`\n",
    "- To view all the processes ever created"
   ]
  },
  {
   "cell_type": "markdown",
   "metadata": {},
   "source": [
    "## Container Lifecycle\n",
    "\n",
    "`docker run` = `docker create` + `docker start`\n",
    "- Whenever we implement the `docker run` command, we are actually running the two commands above\n",
    "\n",
    "\n",
    "- `docker create`:\n",
    "    - `docker`: Reference the Docker Client\n",
    "    - `run`: Try to create a container\n",
    "    - `<image_name>`: Name of image to use for this container\n",
    "    - We are only focusing on setting up the preping the Image to the container\n",
    "    \n",
    "    \n",
    "- `docker start`:\n",
    "    - `docker`: Reference the Docker Client\n",
    "    - `start`: Try to start a container\n",
    "    - `<container id>`: ID of the container to start\n",
    "    - We are actually running the processes inside the container\n",
    "    \n",
    "\n",
    "Example:\n",
    "- `docker create hello-world`\n",
    "    - Output: 36bae91c896f5d678ba1b2882db956fec729ed60a517923d178e65df4058781c\n",
    "- `docker start -a 36bae91c896f5d678ba1b2882db956fec729ed60a517923d178e65df4058781c`\n",
    "    - Output: The regular output when use the `docker run` command\n",
    "    - The `-a` is helpful to print on the typical statements (as the `docker run`) prints out"
   ]
  },
  {
   "cell_type": "markdown",
   "metadata": {},
   "source": [
    "## Restarting Stopped Containers\n",
    "\n",
    "When we run `docker run ps --all`, we are pretty much looking at all the previous processes that are running and have ran.\n",
    "\n",
    "Also, its important to note that we can re-run any of the processes that have been exited in the past.\n",
    "\n",
    "You cannot replace the command associated to the Image. Thus, if we do decide to re-run a process, we must realize that the command will be the same it was when it ran the first time."
   ]
  },
  {
   "cell_type": "markdown",
   "metadata": {},
   "source": [
    "## Removing Stopped Containers\n",
    "\n",
    "To remove all the Docker containers, use `docker system prune`\n",
    "- Realize that if you decide to delete everything, you will also be deleting all stopped containers, all networks not used by at least one container, all dangling images, and all build cache"
   ]
  },
  {
   "cell_type": "markdown",
   "metadata": {},
   "source": [
    "## Retrieving Log Outputs\n",
    "\n",
    "If we run the process of `docker create <image name>` and `docker start <image id>` without implementing the \"-a\", then we could either re-run the `docker start -a <image id>` command or we can use the log:\n",
    "- `docker logs <container id>`\n",
    "    - Get logs from a container\n",
    "    - `docker`: Reference the Docker Client\n",
    "    - `logs`: Get Logs\n",
    "    - `<container id>` ID of the container to look at\n",
    "    - The good thing with using the log command is that it does re-run any of the processes\n",
    "    - It's a good way to inspect the container and to see what's going inside of it... so we will be using it quite often\n",
    "    \n",
    "<img src=\"./images/docker_07.png\" alt=\"Drawing\" style=\"width: 600px;\"/>\n"
   ]
  },
  {
   "cell_type": "markdown",
   "metadata": {},
   "source": [
    "## Stopping Containers\n",
    "\n",
    "So far, the focus has only been on processes that have been exited... but what about processes that are running?\n",
    "- There are two methods to kill a process that is running\n",
    "    - `docker stop <container id>`\n",
    "    - `docker kill <container id>`\n",
    "    \n",
    "    \n",
    "`docker stop <container id>`\n",
    "- When we stop a process, we send a termination signal... where it can terminate on its own term.\n",
    "- When we include some clean-up like save some files or emit some message with the stop command\n",
    "- <img src=\"./images/docker_08.png\" alt=\"Drawing\" style=\"width: 400px;\"/>\n",
    "\n",
    "\n",
    "`docker kill <container id>`\n",
    "- It essentially kills the processes at the moment! No time to save any other files or any clean-up\n",
    "- <img src=\"./images/docker_09.png\" alt=\"Drawing\" style=\"width: 400px;\"/>\n",
    "\n",
    "\n",
    "**When we run `docker stop <container id>`, it only has 10 seconds to execute, if it doesn't, then it would execute the `docker kill <container id>` command**"
   ]
  },
  {
   "cell_type": "markdown",
   "metadata": {},
   "source": [
    "## Multi-Command Containers\n",
    "\n",
    "One thing not quite covered is that we might need to use multiple commands in a containers\n",
    "\n",
    "There was an issue when we ran `docker run redis` as we were not able to access the redis CLI after\n",
    "\n",
    "<img src=\"./images/docker_10.png\" alt=\"Drawing\" style=\"width: 300px;\"/>"
   ]
  },
  {
   "cell_type": "markdown",
   "metadata": {},
   "source": [
    "## Executing Commands in Running Containers\n",
    "\n",
    "`docker exec -it <container id> <command>`\n",
    "- Execute an additional command in a container to a process that is already running!\n",
    "- `docker`: Reference the Docker Client\n",
    "- `exec`: Run another command\n",
    "- `it` Allows us to provide input to the container\n",
    "- `<container id>`: ID of the container\n",
    "- `<command>`: Command to execute"
   ]
  },
  {
   "cell_type": "markdown",
   "metadata": {},
   "source": [
    "## The Purpose of the Flag - `it`\n",
    "\n",
    "Every linux environment has three communication channels:\n",
    "- STDID: Used to communicate information into the process\n",
    "- STDOUT: Going to convey information that is coming from the process\n",
    "- STDERR: Similar to the STDOUT but it commicates any error in the process\n",
    "\n",
    "**The `-it` flag is really a `-i` and `-t` flag but by convention, we shorten it down**\n",
    "- The `-i` is used as STDID where our commands get executed inside the docker process we are running\n",
    "    - Since we are using redis-cli in our example, we need to include `-i` because we will be running inside commands inside the CLI command interface\n",
    "- The `-t` is more to prettify the execution (there are a few things more that go under the hood) but overall, it helps the execution be neat and organized"
   ]
  },
  {
   "cell_type": "markdown",
   "metadata": {},
   "source": [
    "## Getting a Command Prompt in a Container\n",
    "\n",
    "One neat thing about Docker is the ability to have terminal access from the container itself. Thus, with the following command, you are able to use the command prompt\n",
    "- `docker exec -it 1e2dfa75b4c5 sh`\n",
    "\n",
    "Adding the `sh` at the end of the command prompt, we are able to run command lines for the container\n",
    "- `# ls`, the # shows up in the command line\n",
    "\n",
    "- `sh` is a program that is being executed inside that container\n"
   ]
  },
  {
   "cell_type": "markdown",
   "metadata": {},
   "source": [
    "## Starting with Shell\n",
    "\n",
    "Before the docker gets loaded, we can include the command line flag inside the image!\n",
    "- We would have to use the `docker run` command line\n",
    "- For example, we would have to run the command `docker run -it busybox sh`. In doing so, we are running the sh program which is a shell\n",
    "- The downside is that if you includ the `docker run` with `sh`, we are not allowed to run any other processes"
   ]
  },
  {
   "cell_type": "markdown",
   "metadata": {},
   "source": [
    "## Container Isolation\n",
    "\n",
    "**Between two container they do not automatically share their file system**\n",
    "\n",
    "Notice that if you include two docker commands that are identical, they share a new instance if you use `docker ps`\n",
    "- If you were to create a new file in one of the containers, the new file would not available in the other docker that had the identical command"
   ]
  }
 ],
 "metadata": {
  "hide_input": false,
  "kernelspec": {
   "display_name": "Python 3",
   "language": "python",
   "name": "python3"
  },
  "language_info": {
   "codemirror_mode": {
    "name": "ipython",
    "version": 3
   },
   "file_extension": ".py",
   "mimetype": "text/x-python",
   "name": "python",
   "nbconvert_exporter": "python",
   "pygments_lexer": "ipython3",
   "version": "3.6.8"
  },
  "toc": {
   "base_numbering": 1,
   "nav_menu": {},
   "number_sections": false,
   "sideBar": true,
   "skip_h1_title": true,
   "title_cell": "Table of Contents",
   "title_sidebar": "Contents",
   "toc_cell": false,
   "toc_position": {},
   "toc_section_display": true,
   "toc_window_display": false
  },
  "varInspector": {
   "cols": {
    "lenName": 16,
    "lenType": 16,
    "lenVar": 40
   },
   "kernels_config": {
    "python": {
     "delete_cmd_postfix": "",
     "delete_cmd_prefix": "del ",
     "library": "var_list.py",
     "varRefreshCmd": "print(var_dic_list())"
    },
    "r": {
     "delete_cmd_postfix": ") ",
     "delete_cmd_prefix": "rm(",
     "library": "var_list.r",
     "varRefreshCmd": "cat(var_dic_list()) "
    }
   },
   "types_to_exclude": [
    "module",
    "function",
    "builtin_function_or_method",
    "instance",
    "_Feature"
   ],
   "window_display": false
  }
 },
 "nbformat": 4,
 "nbformat_minor": 2
}
