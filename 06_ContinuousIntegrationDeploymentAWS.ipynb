{
 "cells": [
  {
   "cell_type": "markdown",
   "metadata": {
    "hide_input": true
   },
   "source": [
    "# Continuous Integration and Deployment with AWS"
   ]
  },
  {
   "cell_type": "markdown",
   "metadata": {},
   "source": [
    "## Services Overview\n",
    "\n",
    "We will use Github, Travis CI, and AWS"
   ]
  },
  {
   "cell_type": "markdown",
   "metadata": {},
   "source": [
    "## Travis CI Setup\n",
    "\n",
    "Everytime we update our code, Travis will pull down the code and we can do many type of work: delete, testing, or deployment.\n",
    "\n",
    "We will use it for testing and then automatically deploy it to AWS\n",
    "\n",
    "Just make sure you find the repo you are using and toggle the switch on!"
   ]
  },
  {
   "cell_type": "markdown",
   "metadata": {},
   "source": [
    "## Travis YML File Configuration\n",
    "\n",
    "We have to create a Travis YML file: \n",
    "- We need explicit state the following in our YML File\n",
    "    - Tell Travis CI that we need a copy of our docker \n",
    "    - Build our image using Dockerfile.dev\n",
    "    - Tell Travis CI how to run our test suite\n",
    "    - Tell Travis CI how to deploy our code to AWS\n",
    "    \n",
    "\n",
    "Make you correctly name the file: `.travis.yml` with a . at the beginning of the file!\n",
    "\n"
   ]
  },
  {
   "cell_type": "markdown",
   "metadata": {},
   "source": [
    "## A Touch More Travis Setup\n",
    "\n",
    "The `script` section is a serious of command that runs when the test needs to be executed!\n",
    "\n",
    "One thing to consider is that if we run the same terminal command as used before (`docker run <id> npm run test`) we are never closing the command and thus, Travis CI will never start!\n",
    "- To fix this issue, use the command `docker run <id> npm run test -- --coverage`\n",
    "\n",
    "While not directly obvious at first, the tag is important because it allows us to use it our files without explicitly having access to the id!"
   ]
  }
 ],
 "metadata": {
  "hide_input": false,
  "kernelspec": {
   "display_name": "Python 3",
   "language": "python",
   "name": "python3"
  },
  "language_info": {
   "codemirror_mode": {
    "name": "ipython",
    "version": 3
   },
   "file_extension": ".py",
   "mimetype": "text/x-python",
   "name": "python",
   "nbconvert_exporter": "python",
   "pygments_lexer": "ipython3",
   "version": "3.7.3"
  },
  "toc": {
   "base_numbering": 1,
   "nav_menu": {},
   "number_sections": false,
   "sideBar": true,
   "skip_h1_title": true,
   "title_cell": "Table of Contents",
   "title_sidebar": "Contents",
   "toc_cell": false,
   "toc_position": {
    "height": "calc(100% - 180px)",
    "left": "10px",
    "top": "150px",
    "width": "165px"
   },
   "toc_section_display": true,
   "toc_window_display": false
  },
  "varInspector": {
   "cols": {
    "lenName": 16,
    "lenType": 16,
    "lenVar": 40
   },
   "kernels_config": {
    "python": {
     "delete_cmd_postfix": "",
     "delete_cmd_prefix": "del ",
     "library": "var_list.py",
     "varRefreshCmd": "print(var_dic_list())"
    },
    "r": {
     "delete_cmd_postfix": ") ",
     "delete_cmd_prefix": "rm(",
     "library": "var_list.r",
     "varRefreshCmd": "cat(var_dic_list()) "
    }
   },
   "types_to_exclude": [
    "module",
    "function",
    "builtin_function_or_method",
    "instance",
    "_Feature"
   ],
   "window_display": false
  }
 },
 "nbformat": 4,
 "nbformat_minor": 2
}
