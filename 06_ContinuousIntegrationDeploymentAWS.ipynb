{
 "cells": [
  {
   "cell_type": "markdown",
   "metadata": {
    "hide_input": true
   },
   "source": [
    "# Continuous Integration and Deployment with AWS"
   ]
  },
  {
   "cell_type": "markdown",
   "metadata": {},
   "source": [
    "## Services Overview\n",
    "\n",
    "We will use Github, Travis CI, and AWS"
   ]
  },
  {
   "cell_type": "markdown",
   "metadata": {},
   "source": [
    "## Travis CI Setup\n",
    "\n",
    "Everytime we update our code, Travis will pull down the code and we can do many type of work: delete, testing, or deployment.\n",
    "\n",
    "We will use it for testing and then automatically deploy it to AWS\n",
    "\n",
    "Just make sure you find the repo you are using and toggle the switch on!"
   ]
  },
  {
   "cell_type": "markdown",
   "metadata": {},
   "source": [
    "## Travis YML File Configuration\n",
    "\n",
    "We have to create a Travis YML file: \n",
    "- We need explicit state the following in our YML File\n",
    "    - Tell Travis CI that we need a copy of our docker \n",
    "    - Build our image using Dockerfile.dev\n",
    "    - Tell Travis CI how to run our test suite\n",
    "    - Tell Travis CI how to deploy our code to AWS\n",
    "    \n",
    "\n",
    "Make you correctly name the file: `.travis.yml` with a . at the beginning of the file!\n",
    "\n"
   ]
  },
  {
   "cell_type": "markdown",
   "metadata": {},
   "source": [
    "## A Touch More Travis Setup\n",
    "\n",
    "The `script` section is a serious of command that runs when the test needs to be executed!\n",
    "\n",
    "One thing to consider is that if we run the same terminal command as used before (`docker run <id> npm run test`) we are never closing the command and thus, Travis CI will never start!\n",
    "- To fix this issue, use the command `docker run <id> npm run test -- --coverage`\n",
    "\n",
    "While not directly obvious at first, the tag is important because it allows us to use it our files without explicitly having access to the id!"
   ]
  },
  {
   "cell_type": "markdown",
   "metadata": {},
   "source": [
    "## AWS Elastic Beanstalk\n",
    "\n",
    "The steps to create a AWS Elastic Beanstalk instance is quite simple. Make sure you follow the tutorial if need be, but the steps are quite simple as we only going to create an instance of one Docker!"
   ]
  },
  {
   "cell_type": "markdown",
   "metadata": {},
   "source": [
    "## More on Elastic Beanstalk\n",
    "\n",
    "About Elastic Beanstalk:\n",
    "- With Elastic Beanstalk, you can quickly deploy and manage applications in the AWS Cloud without having to learn about the infrastructure that runs those applications. Elastic Beanstalk reduces management complexity without restricting choice or control. You simply upload your application, and Elastic Beanstalk automatically handles the details of capacity provisioning, load balancing, scaling, and application health monitoring.\n",
    "\n",
    "Elastic Beanstalk supports applications developed in Go, Java, .NET, Node.js, PHP, Python, and Ruby. When you deploy your application, Elastic Beanstalk builds the selected supported platform version and provisions one or more AWS resources, such as Amazon EC2 instances, to run your application.\n",
    "\n",
    "Elastic Beanstalk is being used because we are testing it on a web browser which, as the screenshot below shows, gets directed to the Dockerfile on the AWS Environment.\n",
    "- <img src=\"./images/docker_25.png\" alt=\"Drawing\" style=\"width: 400px;\"/>\n",
    "\n",
    "\n",
    "The great thing about Beanstalk is that if it notices that there is a lot of traffic on the website, it will automatically create additional Docker container to handle the additional traffic! \n",
    "- <img src=\"./images/docker_26.png\" alt=\"Drawing\" style=\"width: 400px;\"/>\n",
    "\n",
    "Extra Sources:\n",
    "- https://docs.aws.amazon.com/elasticbeanstalk/latest/dg/Welcome.html"
   ]
  },
  {
   "cell_type": "markdown",
   "metadata": {},
   "source": [
    "## Travis Config for Deployment\n",
    "\n",
    "The idea is the following:\n",
    "- We create a zip folder which contains the information that was specified in the Dockerfile. However, it must be stored. It is stored in the `bucket_name` file in the yml. file. \n",
    "- It's great because you do not have to worry about the storage, AWS takes care of that. \n",
    "- Once it's uploaded on an Amazon s3 Bucket, we can run Elastic Beanstalk to run the application specified in the Dockerfile!\n"
   ]
  },
  {
   "cell_type": "markdown",
   "metadata": {},
   "source": [
    "## Automated Deployment\n",
    "\n",
    "You have to set an API keys that can used by our Travis CI tool!\n",
    "- In order to create API Keys, search the AWS console for \"IAM\"\n",
    "- There are a few nuance steps that should be re-watched if I ever use the Amazon Beanstalk tool\n",
    "    - https://www.udemy.com/docker-and-kubernetes-the-complete-guide/learn/lecture/11437144#overview\n",
    "- Some things to remember is that you should never include any API secrets in your .yml file as the .yml file could (in our case, would be) in our Github account.\n",
    "- To provide Travis CI access with information from the AWS, you must upload the AWS_SECRET_KEY and AWS_ACCESS_KEY in the Travic CI website.\n",
    "- I'm still a bit unsure about the \"$\" symbol in the yml file"
   ]
  },
  {
   "cell_type": "markdown",
   "metadata": {},
   "source": [
    "## Exposing Ports through Dockerfile\n",
    "\n",
    "One thing you must remember is to include the port mapping... that's the only way to view the content/process going on behind the scenes!\n",
    "\n",
    "The `EXPOSE` is used for us to tell where the port mapping occurs... not the actual port mapping! \n",
    "- However, this command slightly changes when running on Elastic Beanstalk, it will map directly **automatically**"
   ]
  }
 ],
 "metadata": {
  "hide_input": false,
  "kernelspec": {
   "display_name": "Python 3",
   "language": "python",
   "name": "python3"
  },
  "language_info": {
   "codemirror_mode": {
    "name": "ipython",
    "version": 3
   },
   "file_extension": ".py",
   "mimetype": "text/x-python",
   "name": "python",
   "nbconvert_exporter": "python",
   "pygments_lexer": "ipython3",
   "version": "3.7.3"
  },
  "toc": {
   "base_numbering": 1,
   "nav_menu": {},
   "number_sections": false,
   "sideBar": true,
   "skip_h1_title": true,
   "title_cell": "Table of Contents",
   "title_sidebar": "Contents",
   "toc_cell": false,
   "toc_position": {
    "height": "calc(100% - 180px)",
    "left": "10px",
    "top": "150px",
    "width": "165px"
   },
   "toc_section_display": true,
   "toc_window_display": false
  },
  "varInspector": {
   "cols": {
    "lenName": 16,
    "lenType": 16,
    "lenVar": 40
   },
   "kernels_config": {
    "python": {
     "delete_cmd_postfix": "",
     "delete_cmd_prefix": "del ",
     "library": "var_list.py",
     "varRefreshCmd": "print(var_dic_list())"
    },
    "r": {
     "delete_cmd_postfix": ") ",
     "delete_cmd_prefix": "rm(",
     "library": "var_list.r",
     "varRefreshCmd": "cat(var_dic_list()) "
    }
   },
   "types_to_exclude": [
    "module",
    "function",
    "builtin_function_or_method",
    "instance",
    "_Feature"
   ],
   "window_display": false
  }
 },
 "nbformat": 4,
 "nbformat_minor": 2
}
