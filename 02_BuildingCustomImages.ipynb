{
 "cells": [
  {
   "cell_type": "markdown",
   "metadata": {},
   "source": [
    "# Building Custom Images Through Docker Server"
   ]
  },
  {
   "cell_type": "markdown",
   "metadata": {},
   "source": [
    "## Creating Docker Images\n",
    "\n",
    "So far in the course, we have ran Docker commands that are created by other developers. \n",
    "- <img src=\"./images/docker_11.png\" alt=\"Drawing\" style=\"width: 300px;\"/>\n",
    "\n",
    "**To create:**\n",
    "1. Create a Dockerfile\n",
    "    - Configuration to define how our container should behave\n",
    "2. Docker Client\n",
    "3. Docker Server\n",
    "    - The Docker Server will use the Dockerfile and use the lines of configuration that have inside of it and then build a useable image that can then be used to start a new container\n",
    "4. Usable image!\n",
    "\n",
    "\n",
    "**Creating a Dockerfile**\n",
    "1. Specify a base image\n",
    "2. Run some commands to install additional programs\n",
    "3. Specify a command to run on container startup"
   ]
  },
  {
   "cell_type": "markdown",
   "metadata": {},
   "source": [
    "## Building a Dockerfile\n",
    "\n",
    "**The goal is to create an image that runs redis-server**\n",
    "\n",
    "In the file: `\"/Users/alexguanga/All_Projects/exponential_learning/Udemy/DockerKubernetesCompleteGuide/projects/redis-image\"`, use the Dockerfile\n",
    "- The Dockerfile should output commands in the terminal (including the id)\n"
   ]
  },
  {
   "cell_type": "markdown",
   "metadata": {},
   "source": [
    "## Docker Teardown\n",
    "\n",
    "If we use the Dockerfile above (directory: `\"/Users/alexguanga/All_Projects/exponential_learning/Udemy/DockerKubernetesCompleteGuide/projects/redis-image\"`); below are the commands:\n",
    "\n",
    "Below are the instructions from the Dockerfile, which tells the Docker Server to do some very specific preparation steps on the image.\n",
    "1. FROM\n",
    "    - Use to specify the Docker Image that we want to use as a base \n",
    "2. RUN\n",
    "    - Use to execute some command while we are preparing our custom image\n",
    "3. CMD\n",
    "    - The command instructions specifies what we should execute when our Docker Image is used to start a new container "
   ]
  },
  {
   "cell_type": "markdown",
   "metadata": {},
   "source": [
    "## What's a Base Image?\n",
    "\n",
    "Oddly enough, the instructors provides the following analogy:\n",
    "- Writing a Dockerfile == Being given a computer with no Operating System (OS) and being told to install Chrome\n",
    "    - Keep in mind that in order to even install Chrome, we need an operating system... there's no other way to do so!\n",
    "\n",
    "\n",
    "**Base Image**\n",
    "<img src=\"./images/docker_12.png\" alt=\"Drawing\" style=\"width: 300px;\"/>\n",
    "- In the screenshot above, notice how the steps are very similar to installing Chrome.\n",
    "- Before you can even install Chrome, you need to specify a base image (operating system)\n",
    "    - `FROM alpine`; the command used in the Dockerfile\n",
    "        - But why alpine?\n",
    "        - Preference and compatabilility. We use operating systems that can fulfill our tasks.\n",
    "        - Alpline in specific is being used because it includes a default set of programs that are very useful for creating a Dockerfile\n",
    "    - `RUN apk add --update redis`\n",
    "        - Using the Chrome analogy, we have certain steps that must correctly implemented before we install Chrome. \n",
    "        - Thus, the command above is able to install the requried steps to use redis!"
   ]
  },
  {
   "cell_type": "markdown",
   "metadata": {},
   "source": [
    "## The Build Process in Detail\n",
    "\n",
    "**`docker build .`**\n",
    "- The `build` instructs Docker to tak a Dockerfile and generate an image from it.\n",
    "- The `.` is specifying what is called the **build context**. The build content is the set of files and folders that belong to our project.\n",
    "- It is the set of files and folders that we want to encapsulate or wrap in this container\n",
    "\n",
    "\n",
    "Process:\n",
    "1. `FROM alpine`\n",
    "    - First, it looks if the Base Image is located in the local machine. If not, it downloads the Base Image from Docker Hub. \n",
    "    - There are outputs that specify that the Base Image was appropriate downloaded.\n",
    "2. `RUN apk add --update redis`\n",
    "    - First, there's an ID in the first output from the command above \"Running in ...\". Notice that a few lines below the first output, the output states \"Removing intermediate container ...\". It's the same ID for both outputs.\n",
    "3. `CMD [\"redis-server\"]`\n",
    "    - This step follows a similar procedure to step 2 where a \"Running in ...\" and \"Removing intermediate container...\" is outputted.\n",
    "\n",
    "\n",
    "\n",
    "Explanation: \"Running in\" & \"Removing intermediate...\"\n",
    "- `FROM alpine` & `RUN apk add --update redis`\n",
    "    - As explained above, the outputs that occur for step 2 and step 3 is a bit strange... (read below to clarify confusion)\n",
    "    - <img src=\"./images/docker_13.png\" alt=\"Drawing\" style=\"width: 300px;\"/>\n",
    "    - When the `RUN` command occurs, it backtracks to the previous command. In our case, it's the `FROM` command. Thus, it creates a container with the \"alphine\" Base Image. In the \"alphine\" Base Image, we have the File System (FS) Snapshot\n",
    "    - The `RUN` commands get executed in the Container to run and thus, we should expect new files in the Container's Hardrive (i.e. redis)\n",
    "    - After creating the Container, we remove the Container but we take a system snapshot and we save it as a temporary Image with an ID. \n",
    "    \n",
    "    \n",
    "- `RUN apk add --update redis` & `CMD [\"redis-server\"]`\n",
    "    - <img src=\"./images/docker_14.png\" alt=\"Drawing\" style=\"width: 300px;\"/> \n",
    "    - Similar to the previous step, the `CMD` command reverts back one step and thus, used the Base Image that was created in the `RUN` command.\n",
    "    - A slight difference is that it never runs the command \"redis-server\" but if the Base Image is ever runned, it will use the \"redis-server\" command!\n",
    "\n",
    "\n",
    "- At the end, the Base Image...\n",
    "    - <img src=\"./images/docker_15.png\" alt=\"Drawing\" style=\"width: 300px;\"/>"
   ]
  },
  {
   "cell_type": "markdown",
   "metadata": {},
   "source": [
    "## A Brief Recap\n",
    "\n",
    "Below is a diagram of the steps from the previous section\n",
    "1. <img src=\"./images/docker_16.png\" alt=\"Drawing\" style=\"width: 300px;\"/>\n",
    "2. <img src=\"./images/docker_17.png\" alt=\"Drawing\" style=\"width: 300px;\"/>\n",
    "3. <img src=\"./images/docker_18.png\" alt=\"Drawing\" style=\"width: 300px;\"/>"
   ]
  },
  {
   "cell_type": "markdown",
   "metadata": {},
   "source": [
    "## Rebuilds with Cache\n",
    "\n",
    "```\n",
    "FROM alpine\n",
    "\n",
    "RUN apk add --update redis\n",
    "RUN apk add --update gcc\n",
    "\n",
    "CMD [\"redis-server\"]\n",
    "\n",
    "```\n",
    "\n",
    "\n",
    "When we create a temporary container but take s snapshot of the File System and thus, we store the Image that was created at each of the step.\n",
    "\n",
    "If we include an additional step: `RUN apk add --update gcc`\n",
    "- For the commands that were previously ran, it no longer fetches Docker Hub for the installation of the packages as it was already downloaded it from Docker Hub.\n",
    "    - There's a message `Using cache`. Therefore, from the previous time we ran the Dockerfile, it realizes that that step 1 and step 2 are the same and thus, step 2 can be ran as it was previously.\n",
    "- For the new command, it runs the same steps as it normally would when it's a new Dockerfile being runned.\n",
    "\n",
    "\n",
    "**Note**\n",
    "- The order of the instructions mattter! If the instructions are changed, it can no longer use the cache and thus, it must go through the installation process again."
   ]
  },
  {
   "cell_type": "markdown",
   "metadata": {},
   "source": [
    "## Tagging an Image\n",
    "\n",
    "Once we build the Image, we would the ID of the image when we want to run the Image to create a Container\n",
    "\n",
    "However, using the ID to run the Image to create a Container is not ideal... \n",
    "- Tagging an Image: `docker build -t alexguanga/redis:latest .`\n",
    "    - `-t alexguanga/redis:latest` tags the image\n",
    "    - `.` specifies the directory of the files/folders to use for the build\n",
    "- Tagging Flag: `-t alexguanga/redis:latest`\n",
    "    - `alexguanga` is the Docker ID\n",
    "    - `redis` is the Repo/Project name (could be anything)\n",
    "    - `latest` is the Version\n",
    "\n",
    "\n",
    "To use Tagging:\n",
    "- `docker build -t alexguanga/redis:latest .`\n",
    "- `docker run alexguanga/redis`"
   ]
  },
  {
   "cell_type": "markdown",
   "metadata": {},
   "source": [
    "## Manual Image Generation with Docker Commit\n",
    "\n",
    "While we can create a Container from an Image, we can also create a Image from a Container.\n",
    "\n",
    "- `docker run -it alphine sh` #Start up a shell\n",
    "- In the shell, explicit state `apk add --update redis`\n",
    "- In a new terminal window, `docker ps`\n",
    "- Then, `docker commit -c 'CMD [\"redis-server\"]' <id>`\n",
    "- This would then print out an SHA-id... which could be used to create a new container (it's the Base Image created by the commands above)"
   ]
  }
 ],
 "metadata": {
  "hide_input": false,
  "kernelspec": {
   "display_name": "Python 3",
   "language": "python",
   "name": "python3"
  },
  "language_info": {
   "codemirror_mode": {
    "name": "ipython",
    "version": 3
   },
   "file_extension": ".py",
   "mimetype": "text/x-python",
   "name": "python",
   "nbconvert_exporter": "python",
   "pygments_lexer": "ipython3",
   "version": "3.7.3"
  },
  "toc": {
   "base_numbering": 1,
   "nav_menu": {},
   "number_sections": false,
   "sideBar": true,
   "skip_h1_title": true,
   "title_cell": "Table of Contents",
   "title_sidebar": "Contents",
   "toc_cell": false,
   "toc_position": {},
   "toc_section_display": true,
   "toc_window_display": false
  },
  "varInspector": {
   "cols": {
    "lenName": 16,
    "lenType": 16,
    "lenVar": 40
   },
   "kernels_config": {
    "python": {
     "delete_cmd_postfix": "",
     "delete_cmd_prefix": "del ",
     "library": "var_list.py",
     "varRefreshCmd": "print(var_dic_list())"
    },
    "r": {
     "delete_cmd_postfix": ") ",
     "delete_cmd_prefix": "rm(",
     "library": "var_list.r",
     "varRefreshCmd": "cat(var_dic_list()) "
    }
   },
   "types_to_exclude": [
    "module",
    "function",
    "builtin_function_or_method",
    "instance",
    "_Feature"
   ],
   "window_display": false
  }
 },
 "nbformat": 4,
 "nbformat_minor": 2
}
