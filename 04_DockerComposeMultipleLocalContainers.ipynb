{
 "cells": [
  {
   "cell_type": "markdown",
   "metadata": {},
   "source": [
    "# Docker Compose with Multiple Local Containers"
   ]
  },
  {
   "cell_type": "markdown",
   "metadata": {},
   "source": [
    "## App Overview\n",
    "\n",
    "A bit vague, but the idea is that we do not want to include multiple instances of a Single App as there could be discrepancy between apps (if more were to be created).\n",
    "\n",
    "The goal would be take create multiple Docker Container that contain the Node App which then connects to another Docker Container than connect to Redis\n"
   ]
  },
  {
   "cell_type": "markdown",
   "metadata": {},
   "source": [
    "## App Server Code\n",
    "\n",
    "Just creating the code in the `visits` directory"
   ]
  },
  {
   "cell_type": "markdown",
   "metadata": {},
   "source": [
    "## Introducing Docker Compose\n",
    "\n",
    "An issue arises when trying to connect the Application with Redis... an error because there's no infrastucture in place that connects both!\n",
    "\n",
    "To fix this, we are going to use Docker Compose!\n",
    "- Separate CLI that gets installed along with Docker\n",
    "- Used to start up multiple Docker containers at the same time\n",
    "- Automates some of the long-winded arguments we were passing to `docker run`"
   ]
  },
  {
   "cell_type": "markdown",
   "metadata": {},
   "source": [
    "## Docker Compose Files\n",
    "\n",
    "Using a `docker-compose.yml` file, we specify that Containers and the processes we want it to run. The commands in the yml file as similar to the commands we would normally in Docker.\n",
    "\n",
    "For example, we would specify in the `docker-compose.yml` file the following (we would also need to include instruction for the `node-app`\n",
    "- `redis-server`\n",
    "    - Make it using the redis image\n",
    "    \n",
    "    \n",
    "If we look at the yml file in the directory, we realize that the node-app doesn't specify the image but it specifies the Container to use (`build: .`)\n"
   ]
  },
  {
   "cell_type": "markdown",
   "metadata": {},
   "source": [
    "## Networking with Docker Compose\n",
    "\n",
    "Creating the yml file creates a networking connection between `node.app` and `redis` without any additional configurations.\n",
    "\n",
    "The `ports` in the yml is simply to connect to your local machine!\n",
    "\n",
    "In the index.js file, we must specify the services in the code... please refer to the connect for the exact implementation (`redis.createClient`)\n",
    "\n",
    "Some of the commands we had previously ran, will have a slightly different sytax\n",
    "- `docker run myimage` -> `docer-compose up`\n",
    "- `docker build .` + `docker run myimage` -> `docker-compose up --build`"
   ]
  },
  {
   "cell_type": "markdown",
   "metadata": {},
   "source": [
    "## Docker Compose Commands\n",
    "\n",
    "In the node.js code, make sure you are identing appropiately (not with a tab)\n",
    "\n",
    "After an edit, make sure you are rebuilding the entire container with `docker-compose up --build`"
   ]
  },
  {
   "cell_type": "markdown",
   "metadata": {},
   "source": [
    "## Stopping Docker Compose Commands\n",
    "\n",
    "- `docker-compose up -d`: Launch in the background\n",
    "- `docker-compose down`: Stop Containers"
   ]
  },
  {
   "cell_type": "markdown",
   "metadata": {},
   "source": [
    "## Container Maintenance with Compose \n",
    "\n",
    "You are able to stop the Containers by including Status Codes to help maintain the Containers robust"
   ]
  },
  {
   "cell_type": "markdown",
   "metadata": {},
   "source": [
    "## Automatic Container Restarts\n",
    "\n",
    "- Status Codes\n",
    "    - `0`: We exited and everything is OK\n",
    "    - `1`, `2`, `3`, `etc`: We exited because something went wrong\n",
    "    \n",
    "- Restart Policies:\n",
    "    - \"no\": Never attempt to restart this `.` Container if it stops or crashes\n",
    "    - \"always\": If the container stop \"for any reason\" always attempt to restart it\n",
    "    - \"on-failure\": Only restart if it the container satops with an error code\n",
    "    - \"unless-stopped\": Always restart uncless we (the developers) forcibly stop it"
   ]
  }
 ],
 "metadata": {
  "hide_input": false,
  "kernelspec": {
   "display_name": "Python 3",
   "language": "python",
   "name": "python3"
  },
  "language_info": {
   "codemirror_mode": {
    "name": "ipython",
    "version": 3
   },
   "file_extension": ".py",
   "mimetype": "text/x-python",
   "name": "python",
   "nbconvert_exporter": "python",
   "pygments_lexer": "ipython3",
   "version": "3.7.3"
  },
  "toc": {
   "base_numbering": 1,
   "nav_menu": {},
   "number_sections": false,
   "sideBar": true,
   "skip_h1_title": true,
   "title_cell": "Table of Contents",
   "title_sidebar": "Contents",
   "toc_cell": false,
   "toc_position": {},
   "toc_section_display": true,
   "toc_window_display": false
  },
  "varInspector": {
   "cols": {
    "lenName": 16,
    "lenType": 16,
    "lenVar": 40
   },
   "kernels_config": {
    "python": {
     "delete_cmd_postfix": "",
     "delete_cmd_prefix": "del ",
     "library": "var_list.py",
     "varRefreshCmd": "print(var_dic_list())"
    },
    "r": {
     "delete_cmd_postfix": ") ",
     "delete_cmd_prefix": "rm(",
     "library": "var_list.r",
     "varRefreshCmd": "cat(var_dic_list()) "
    }
   },
   "types_to_exclude": [
    "module",
    "function",
    "builtin_function_or_method",
    "instance",
    "_Feature"
   ],
   "window_display": false
  }
 },
 "nbformat": 4,
 "nbformat_minor": 2
}
