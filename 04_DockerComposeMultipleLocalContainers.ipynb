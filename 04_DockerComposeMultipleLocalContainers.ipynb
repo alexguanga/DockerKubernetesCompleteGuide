{
 "cells": [
  {
   "cell_type": "markdown",
   "metadata": {},
   "source": [
    "# Docker Compose with Multiple Local Containers"
   ]
  },
  {
   "cell_type": "markdown",
   "metadata": {},
   "source": [
    "## App Overview\n",
    "\n",
    "A bit vague, but the idea is that we do not want to include multiple instances of a Single App as there could be discrepancy between apps (if more were to be created).\n",
    "\n",
    "The goal would be take create multiple Docker Container that contain the Node App which then connects to another Docker Container than connect to Redis\n"
   ]
  },
  {
   "cell_type": "markdown",
   "metadata": {},
   "source": [
    "## App Server Code\n",
    "\n",
    "Just creating the code in the `visits` directory"
   ]
  },
  {
   "cell_type": "markdown",
   "metadata": {},
   "source": [
    "## Introducing Docker Compose\n",
    "\n",
    "An issue arises when trying to connect the Application with Redis... an error because there's no infrastucture in place that connects both!\n",
    "\n",
    "To fix this, we are going to use Docker Compose!\n",
    "- Separate CLI that gets installed along with Docker\n",
    "- Used to start up multiple Docker containers at the same time\n",
    "- Automates some of the long-winded arguments we were passing to `docker run`"
   ]
  },
  {
   "cell_type": "markdown",
   "metadata": {},
   "source": [
    "## Docker Compose Files\n",
    "\n",
    "Using a `docker-compose.yml` file, we specify that Containers and the processes we want it to run\n",
    "\n",
    "For example, we would specify in the `docker-compose.yml` file the following (we would also need to include instruction for the `node-app`\n",
    "- `redis-server`\n",
    "    - Make it using the redis image\n",
    "    \n",
    "    \n",
    "If we look at the yml file in the directory, we realize that the node-app doesn't specify the image but it specifies the Container to use (`build: .`)\n"
   ]
  },
  {
   "cell_type": "code",
   "execution_count": null,
   "metadata": {},
   "outputs": [],
   "source": []
  }
 ],
 "metadata": {
  "hide_input": false,
  "kernelspec": {
   "display_name": "Python 3",
   "language": "python",
   "name": "python3"
  },
  "language_info": {
   "codemirror_mode": {
    "name": "ipython",
    "version": 3
   },
   "file_extension": ".py",
   "mimetype": "text/x-python",
   "name": "python",
   "nbconvert_exporter": "python",
   "pygments_lexer": "ipython3",
   "version": "3.7.3"
  },
  "toc": {
   "base_numbering": 1,
   "nav_menu": {},
   "number_sections": false,
   "sideBar": true,
   "skip_h1_title": true,
   "title_cell": "Table of Contents",
   "title_sidebar": "Contents",
   "toc_cell": false,
   "toc_position": {},
   "toc_section_display": true,
   "toc_window_display": false
  },
  "varInspector": {
   "cols": {
    "lenName": 16,
    "lenType": 16,
    "lenVar": 40
   },
   "kernels_config": {
    "python": {
     "delete_cmd_postfix": "",
     "delete_cmd_prefix": "del ",
     "library": "var_list.py",
     "varRefreshCmd": "print(var_dic_list())"
    },
    "r": {
     "delete_cmd_postfix": ") ",
     "delete_cmd_prefix": "rm(",
     "library": "var_list.r",
     "varRefreshCmd": "cat(var_dic_list()) "
    }
   },
   "types_to_exclude": [
    "module",
    "function",
    "builtin_function_or_method",
    "instance",
    "_Feature"
   ],
   "window_display": false
  }
 },
 "nbformat": 4,
 "nbformat_minor": 2
}
