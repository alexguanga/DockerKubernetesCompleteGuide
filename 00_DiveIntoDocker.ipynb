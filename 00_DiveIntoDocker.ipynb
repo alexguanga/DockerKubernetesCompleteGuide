{
 "cells": [
  {
   "cell_type": "markdown",
   "metadata": {},
   "source": [
    "# Dive Into Docker!"
   ]
  },
  {
   "cell_type": "markdown",
   "metadata": {},
   "source": [
    "## Why Use Docker?\n",
    "\n",
    "- The goal of Docker is to reduce issues when new software/installation is published... we have all faced issue when we are downloading software and are not able to troubleshoot the issue!\n",
    "- For some software, we might feel the need to use `wget`, however, this can sometimes cause problems. We can troubleshoot the problem but as we all know, problems will always persist.\n",
    "- If instead, we use Docker to download the project, we can be confident that the program will run\n",
    "    - `docker run -it redis`\n",
    "- *Docker makes it really easy to install and run software without worrying about setup or dependencies*"
   ]
  },
  {
   "cell_type": "markdown",
   "metadata": {},
   "source": [
    "## What is Docker?\n",
    "- *Docker is a platform or ecosystem around creating and running containers*\n",
    "    - Thus, when referring to Docker, we are referring to an entire collection of different projects and tools!\n",
    "- Docker Ecosystem:\n",
    "    - When sometimes states they are using Docker, they can be referring to:\n",
    "    - Docker Client\n",
    "    - Docker Machine\n",
    "    - Docker Server\n",
    "    - Docker Images\n",
    "    - Docker Hub\n",
    "    - Docker Compose\n",
    "- When we ran the command `docker run -it redis`, there are certain steps that occur\n",
    "    - Docker CLI reached the Docker Hub and downloaded a single file called Image. Using the Image, we are able to create an instance of a Container.\n",
    "    - Image: Single file with all the dependencies and configuration required to run a program\n",
    "        - Example: Redis\n",
    "    - Container: Instance of an image. Runs a program."
   ]
  },
  {
   "cell_type": "markdown",
   "metadata": {},
   "source": [
    "## Docker for Mac/Windows\n",
    "- We will have to download Docker for Windows/Mac\n",
    "    - There are two important components that will provide great functionality\n",
    "    - **Docker Client (Docker CLI)**: Tool that we are going to issue commands to\n",
    "        - We are going to interact with Docker CLI from the terminal!\n",
    "        - The Docker Client does not do much with containers or images but more of a portal that will help us interact with the Docker Server\n",
    "    - **Docker Server (Docker Daemon)** Tool that is responsible for creating images, running containers, etc. \n",
    "        - We are never going to reach out to the Docker Server directly since it's run behind the scenes!"
   ]
  },
  {
   "cell_type": "markdown",
   "metadata": {},
   "source": [
    "## Using the Docker Client\n",
    "\n",
    "Process:\n",
    "1. We run `docker run hello-world`\n",
    "2. This will start up the Docker Client (Docker CLI) since it takes the commands from the user.\n",
    "3. This will communicated the comamnds the Docker Server which is in charge of the heavy lifting!\n",
    "    - This means we would like to start a new container called `hello-world`\n",
    "4. This first thing Docker Server does is that it will check of `hello-world` already exist in your local machine in something called \"Image Cache\"\n",
    "5. If it cannot find anything in the \"Image Cache\" then it will look into Docker Hub\n",
    "    - Docker Hub: Repository of free public images that could be downloaded and run in your personal computer\n",
    "    - Docker Server reaches out to Docker Hub to check if an image called `hello-world` exist in Docker Hub which it does!\n",
    "6. From the Docker Hub, it downloaded the Image to Image Cache in my personal computer\n",
    "    - <img src=\"./images/docker_01.png\" alt=\"Drawing\" style=\"width: 400px;\"/>\n",
    "    - <img src=\"./images/docker_00.png\" alt=\"Drawing\" style=\"width: 400px;\"/>\n",
    "7. The Docker Server takes the single file (Image) from the Docker Hub and loaded into memory, created a container out of it, and ran a single program inside of it!"
   ]
  },
  {
   "cell_type": "markdown",
   "metadata": {},
   "source": [
    "## But Really... What's a Container?\n",
    "\n",
    "Operating System (high-level):\n",
    "- <img src=\"./images/docker_02.png\" alt=\"Drawing\" style=\"width: 400px;\"/>\n",
    "- Think of the Kernal as the intermediate processes between the processes in a computer (i.e. Chrome) and the actual components in the computer (i.e. Hard Disk)\n",
    "\n",
    "\n",
    "Function Invocation\n",
    "- These are function that help interact the programs with the kernel!\n",
    "- Examples: `System Call`\n",
    "\n",
    "Namespacing:\n",
    "- Isolating the resources below for different process (or group of processes)\n",
    "- Resources:\n",
    "    - Users\n",
    "    - Hard Drive\n",
    "    - Network\n",
    "    - Hostnames\n",
    "    - Inter Process/Communication\n",
    "    - Proceeses\n",
    "- For example, if we needed Python 3 for NodeJS and Python 2 for Chrome, we would install both Python in the hard drive and run the appropriate Python for the actual programs!\n",
    "\n",
    "\n",
    "Control Groups (cgroups)\n",
    "- Limit the amount of resources used per process\n",
    "- We can limit based on:\n",
    "    - Memory\n",
    "    - CPU Usage\n",
    "    - HD I/O (hard drive input/output)\n",
    "    - Network Bandwith\n",
    "    \n",
    "    \n",
    "Containers:\n",
    "- <img src=\"./images/docker_03.png\" alt=\"Drawing\" style=\"width: 400px;\"/>\n",
    "- A running process along a subset of physcial resources on a computer that are allocated to that process specifically\n",
    "\n",
    "\n",
    "Image to Container:\n",
    "-  The Kernel is going to isolate a subsection of the hardrive so it will be available to the container (screenshot above)\n",
    "- In the screenshot below, we can see that the container has isolated Chrome and Python for that specific processes.\n",
    "- <img src=\"./images/docker_04.png\" alt=\"Drawing\" style=\"width: 400px;\"/>\n"
   ]
  },
  {
   "cell_type": "markdown",
   "metadata": {},
   "source": [
    "## How's Docker Running on Your Computer?\n",
    "\n",
    "Note that the in the diagram above (describing the Kernel), we must realize that the concepts of \"Namespacing\" and \"Control Groups\" it's not defaulted to all kernels but only kernels operating on a Linux!"
   ]
  }
 ],
 "metadata": {
  "hide_input": false,
  "kernelspec": {
   "display_name": "Python 3",
   "language": "python",
   "name": "python3"
  },
  "language_info": {
   "codemirror_mode": {
    "name": "ipython",
    "version": 3
   },
   "file_extension": ".py",
   "mimetype": "text/x-python",
   "name": "python",
   "nbconvert_exporter": "python",
   "pygments_lexer": "ipython3",
   "version": "3.6.8"
  },
  "toc": {
   "base_numbering": 1,
   "nav_menu": {},
   "number_sections": false,
   "sideBar": true,
   "skip_h1_title": true,
   "title_cell": "Table of Contents",
   "title_sidebar": "Contents",
   "toc_cell": false,
   "toc_position": {},
   "toc_section_display": true,
   "toc_window_display": false
  },
  "varInspector": {
   "cols": {
    "lenName": 16,
    "lenType": 16,
    "lenVar": 40
   },
   "kernels_config": {
    "python": {
     "delete_cmd_postfix": "",
     "delete_cmd_prefix": "del ",
     "library": "var_list.py",
     "varRefreshCmd": "print(var_dic_list())"
    },
    "r": {
     "delete_cmd_postfix": ") ",
     "delete_cmd_prefix": "rm(",
     "library": "var_list.r",
     "varRefreshCmd": "cat(var_dic_list()) "
    }
   },
   "types_to_exclude": [
    "module",
    "function",
    "builtin_function_or_method",
    "instance",
    "_Feature"
   ],
   "window_display": false
  }
 },
 "nbformat": 4,
 "nbformat_minor": 2
}
