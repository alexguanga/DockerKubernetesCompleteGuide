{
 "cells": [
  {
   "cell_type": "markdown",
   "metadata": {},
   "source": [
    "# Making Real Projects with Docker"
   ]
  },
  {
   "cell_type": "markdown",
   "metadata": {},
   "source": [
    "## Project Outline\n",
    "\n",
    "1. Create a Node JS web app\n",
    "2. Create a Dockerfile\n",
    "3. Build Image from Dockerfile\n",
    "4. Run Image as Container\n",
    "5. Connect to web app from a browser"
   ]
  },
  {
   "cell_type": "markdown",
   "metadata": {},
   "source": [
    "## A Few Planned Errors\n",
    "\n",
    "On Node.JS\n",
    "- We have to install dependencies before running the app\n",
    "    - `npm install`\n",
    "- We have to run a command to start up the server\n",
    "    - `npm start`\n",
    "    \n",
    "**After running the command, we recieve an error \"npm: not found\"**"
   ]
  },
  {
   "cell_type": "markdown",
   "metadata": {},
   "source": [
    "## Base Image Issues\n",
    "\n",
    "- Remember that alpine is an analogy to installing an operating sytem. However, Alpine Image does not have much programs... there's not a long programs installed in the Alpine Image \n",
    "- To solve the issue we can do the following:\n",
    "\n",
    "To solve the issue:\n",
    "1. Find a different Base Image\n",
    "2. Try to build your own Image from scratch\n",
    "    - Make sure you are leveraging the Docker Hub to find Images"
   ]
  },
  {
   "cell_type": "markdown",
   "metadata": {},
   "source": [
    "## A Few Missing Files\n",
    "\n",
    "For some strange reason, Docker is complaining that it cannot find `package.json` even though we do have a `package.json`!\n",
    "\n",
    "There is `package.json` file in the working directory but not in the container that is created from `RUN node:alpine`"
   ]
  },
  {
   "cell_type": "markdown",
   "metadata": {},
   "source": [
    "## Copying Build Files\n",
    "\n",
    "`COPY`: \n",
    "- The copy instructions is used to move files and folders from our local file system to the file system of that temporary container that is created during the build\n",
    "- `COPY ./ ./`\n",
    "    - The first portion: Path folder to copy on your local machine realtive to build context\n",
    "    - The second portion: Place to copy stuff to inside the container\n",
    "\n",
    "\n",
    "To tag the image, you can include:\n",
    "- `docker build -t alexguanga/simpleapp .`\n",
    "\n",
    "\n",
    "Error\n",
    "- The container ran, and checked \"http://localhost:8080/\" but an error on the webpage appeared"
   ]
  },
  {
   "cell_type": "markdown",
   "metadata": {},
   "source": [
    "## Container Port Mapping\n",
    "\n",
    "We have to set up an explicit port mapping. A port mapping essentially says any time that someone makes to a given port on your local network, take that request and automatically forward it to some port inside the container\n",
    "- <img src=\"./images/docker_19.png\" alt=\"Drawing\" style=\"width: 400px;\"/>\n",
    "\n",
    "\n",
    "`docker run -p 8080:8080 <image id>`\n",
    "- The first `8080` indicates the route incoming requests to this port on local host\n",
    "- The second `8080` indicates the port inside the container\n",
    "- Realize the the incoming route and the port inside the container do not have to be same... we can also have `5000:8080` which means that when we search in the browser, instead of typing \"http://localhost:8080/\", we would have to type \"http://localhost:5000/\"\n",
    "- We can also change the port inside the container... but you need to update the port inside the `index.js` file"
   ]
  },
  {
   "cell_type": "markdown",
   "metadata": {},
   "source": [
    "## Specifying a Working Directory\n",
    "\n",
    "When we install all the dependencies, one issue we can run across is that we can install dependencies that have the same naming convention as the files already installed in the default Dockerfile\n",
    "- To fix this issue, we need to explicit create the working directory for the dependencies\n",
    "- A good place to install the working directory is inside the `usr` directory\n",
    "\n"
   ]
  },
  {
   "cell_type": "markdown",
   "metadata": {},
   "source": [
    "## Unnecessary Rebuilds\n",
    "\n",
    "If we make any modifications on the files that were created to build the Containers, and then we try to run Docker, the changes in the file will not be applicable and thus, will not reflect on the Container. \n",
    "\n",
    "In order to update the Dockerfile, we need to rebuild the entire Container!\n",
    "\n",
    "Because the `COPY` commands work on the files in the directory, any modification will change what the Dockerfile is `COPY` and thus, must recreate the steps after the `COPY` command.\n",
    "- However, this is not ideal because we would be recreating the entire process and thus, very inefficient (especially if the Dockerfile takes long to create)"
   ]
  },
  {
   "cell_type": "markdown",
   "metadata": {},
   "source": [
    "## Minimizing Cache Busting and Rebuilds\n",
    "\n",
    "To avoid recreating the entire Container, you should only copy the files that are requried/desired for the entire process to run!\n",
    "\n",
    "The idea is to have ordering of the commands to be efficient. If there are certain files that will be updated, you should include those steps at the end of the Dockerfile where they won't impact the build of the Container and thus, will not have to re-install the process (and creating a unique ID)\n",
    "- It will use the Cache instead!"
   ]
  }
 ],
 "metadata": {
  "hide_input": false,
  "kernelspec": {
   "display_name": "Python 3",
   "language": "python",
   "name": "python3"
  },
  "language_info": {
   "codemirror_mode": {
    "name": "ipython",
    "version": 3
   },
   "file_extension": ".py",
   "mimetype": "text/x-python",
   "name": "python",
   "nbconvert_exporter": "python",
   "pygments_lexer": "ipython3",
   "version": "3.7.3"
  },
  "toc": {
   "base_numbering": 1,
   "nav_menu": {},
   "number_sections": false,
   "sideBar": true,
   "skip_h1_title": true,
   "title_cell": "Table of Contents",
   "title_sidebar": "Contents",
   "toc_cell": false,
   "toc_position": {},
   "toc_section_display": true,
   "toc_window_display": false
  },
  "varInspector": {
   "cols": {
    "lenName": 16,
    "lenType": 16,
    "lenVar": 40
   },
   "kernels_config": {
    "python": {
     "delete_cmd_postfix": "",
     "delete_cmd_prefix": "del ",
     "library": "var_list.py",
     "varRefreshCmd": "print(var_dic_list())"
    },
    "r": {
     "delete_cmd_postfix": ") ",
     "delete_cmd_prefix": "rm(",
     "library": "var_list.r",
     "varRefreshCmd": "cat(var_dic_list()) "
    }
   },
   "types_to_exclude": [
    "module",
    "function",
    "builtin_function_or_method",
    "instance",
    "_Feature"
   ],
   "window_display": false
  }
 },
 "nbformat": 4,
 "nbformat_minor": 2
}
