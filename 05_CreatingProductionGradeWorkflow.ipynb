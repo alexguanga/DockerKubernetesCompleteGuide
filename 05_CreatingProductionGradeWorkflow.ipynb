{
 "cells": [
  {
   "cell_type": "markdown",
   "metadata": {},
   "source": [
    "# Creating a Production-Grade Workflow"
   ]
  },
  {
   "cell_type": "markdown",
   "metadata": {},
   "source": [
    "## Development Workflow\n",
    "\n",
    "- Development -> Testing -> Deployment\n",
    "- Additionally, these steps must be able to reproducible"
   ]
  },
  {
   "cell_type": "markdown",
   "metadata": {},
   "source": [
    "## Flow Specifics\n",
    "\n",
    "Diagram 1:\n",
    "- <img src=\"./images/docker_20.png\" alt=\"Drawing\" style=\"width: 400px;\"/>\n",
    "\n",
    "\n",
    "Diagram 2:\n",
    "- <img src=\"./images/docker_21.png\" alt=\"Drawing\" style=\"width: 300px;\"/>\n",
    "- <img src=\"./images/docker_22.png\" alt=\"Drawing\" style=\"width: 300px;\"/>\n"
   ]
  },
  {
   "cell_type": "markdown",
   "metadata": {},
   "source": [
    "## Docker's Purpose\n",
    "\n",
    "Something to notice:\n",
    "- Last diagram didn't mention anything about Docker!\n",
    "- Docker is a tool in a normal develpment flow\n",
    "- Docker makes some of these tasks a lot easier"
   ]
  },
  {
   "cell_type": "markdown",
   "metadata": {},
   "source": [
    "## Project Generation\n",
    "\n",
    "Installed `node`"
   ]
  },
  {
   "cell_type": "markdown",
   "metadata": {},
   "source": [
    "## More on Project Generation\n",
    "\n",
    "Realize that the normal command presented in the tutorial did not work... had to add the `sudo` command:\n",
    "- `sudo npm install -g create-react-app`"
   ]
  },
  {
   "cell_type": "markdown",
   "metadata": {},
   "source": [
    "## Necessary Commands\n",
    "\n",
    "- `npm run start`: Starts up a deployment server. *For deployment use only*\n",
    "- `npm run test`: Runs test associated with the project\n",
    "    - We will not add any additional test and are more concern that we only deploy our application if all the test are passed.\n",
    "- `npm run build`: Builds a **production** version of the application\n",
    "    - This command is used to run all the files and concat them to one file!\n",
    "    "
   ]
  },
  {
   "cell_type": "markdown",
   "metadata": {},
   "source": [
    "## Creating the Dev Dockerfile\n",
    "\n",
    "The idea is to build two Dockerfile.\n",
    "\n",
    "1. In Development: `npm run start`\n",
    "    - Specifying the Dockerfile with a \".dev\" at the end will indicate that the Dockerfile should only be used in development.    \n",
    "\n",
    "\n",
    "2. In Production: `npm run build`\n",
    "    - The naming convention will be maintained (Dockerfile) for production.\n",
    "    \n",
    "One thing to note is that if the Dockerfile is not exacttly, we must update the commands:\n",
    "- `docker build -f Dockerfile.dev .`"
   ]
  },
  {
   "cell_type": "markdown",
   "metadata": {},
   "source": [
    "## Duplicating Dependencies\n",
    "\n",
    "Note that you should delete any local dependencies installed if you will use the dependencies from Docker"
   ]
  },
  {
   "cell_type": "markdown",
   "metadata": {},
   "source": [
    "## Starting the Containers\n",
    "\n",
    "Remember that you need yo update the command if you are trying to link the Host with the Local Host on your machine\n",
    "- `docker run -p 3000:3000 4d671c024795`"
   ]
  }
 ],
 "metadata": {
  "hide_input": false,
  "kernelspec": {
   "display_name": "Python 3",
   "language": "python",
   "name": "python3"
  },
  "language_info": {
   "codemirror_mode": {
    "name": "ipython",
    "version": 3
   },
   "file_extension": ".py",
   "mimetype": "text/x-python",
   "name": "python",
   "nbconvert_exporter": "python",
   "pygments_lexer": "ipython3",
   "version": "3.7.3"
  },
  "toc": {
   "base_numbering": 1,
   "nav_menu": {},
   "number_sections": false,
   "sideBar": true,
   "skip_h1_title": true,
   "title_cell": "Table of Contents",
   "title_sidebar": "Contents",
   "toc_cell": false,
   "toc_position": {},
   "toc_section_display": true,
   "toc_window_display": false
  },
  "varInspector": {
   "cols": {
    "lenName": 16,
    "lenType": 16,
    "lenVar": 40
   },
   "kernels_config": {
    "python": {
     "delete_cmd_postfix": "",
     "delete_cmd_prefix": "del ",
     "library": "var_list.py",
     "varRefreshCmd": "print(var_dic_list())"
    },
    "r": {
     "delete_cmd_postfix": ") ",
     "delete_cmd_prefix": "rm(",
     "library": "var_list.r",
     "varRefreshCmd": "cat(var_dic_list()) "
    }
   },
   "types_to_exclude": [
    "module",
    "function",
    "builtin_function_or_method",
    "instance",
    "_Feature"
   ],
   "window_display": false
  }
 },
 "nbformat": 4,
 "nbformat_minor": 2
}
