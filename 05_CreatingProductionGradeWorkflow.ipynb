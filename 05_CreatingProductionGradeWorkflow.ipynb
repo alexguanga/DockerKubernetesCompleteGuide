{
 "cells": [
  {
   "cell_type": "markdown",
   "metadata": {
    "hide_input": true
   },
   "source": [
    "# Creating a Production-Grade Workflow"
   ]
  },
  {
   "cell_type": "markdown",
   "metadata": {},
   "source": [
    "## Development Workflow\n",
    "\n",
    "- Development -> Testing -> Deployment\n",
    "- Additionally, these steps must be able to reproducible"
   ]
  },
  {
   "cell_type": "markdown",
   "metadata": {},
   "source": [
    "## Flow Specifics\n",
    "\n",
    "Diagram 1:\n",
    "- <img src=\"./images/docker_20.png\" alt=\"Drawing\" style=\"width: 400px;\"/>\n",
    "\n",
    "\n",
    "Diagram 2:\n",
    "- <img src=\"./images/docker_21.png\" alt=\"Drawing\" style=\"width: 300px;\"/>\n",
    "- <img src=\"./images/docker_22.png\" alt=\"Drawing\" style=\"width: 300px;\"/>\n"
   ]
  },
  {
   "cell_type": "markdown",
   "metadata": {},
   "source": [
    "## Docker's Purpose\n",
    "\n",
    "Something to notice:\n",
    "- Last diagram didn't mention anything about Docker!\n",
    "- Docker is a tool in a normal develpment flow\n",
    "- Docker makes some of these tasks a lot easier"
   ]
  },
  {
   "cell_type": "markdown",
   "metadata": {},
   "source": [
    "## Project Generation\n",
    "\n",
    "Installed `node`"
   ]
  },
  {
   "cell_type": "markdown",
   "metadata": {},
   "source": [
    "## More on Project Generation\n",
    "\n",
    "Realize that the normal command presented in the tutorial did not work... had to add the `sudo` command:\n",
    "- `sudo npm install -g create-react-app`"
   ]
  },
  {
   "cell_type": "markdown",
   "metadata": {},
   "source": [
    "## Necessary Commands\n",
    "\n",
    "- `npm run start`: Starts up a deployment server. *For deployment use only*\n",
    "- `npm run test`: Runs test associated with the project\n",
    "    - We will not add any additional test and are more concern that we only deploy our application if all the test are passed.\n",
    "- `npm run build`: Builds a **production** version of the application\n",
    "    - This command is used to run all the files and concat them to one file!\n",
    "    "
   ]
  },
  {
   "cell_type": "markdown",
   "metadata": {},
   "source": [
    "## Creating the Dev Dockerfile\n",
    "\n",
    "The idea is to build two Dockerfile.\n",
    "\n",
    "1. In Development: `npm run start`\n",
    "    - Specifying the Dockerfile with a \".dev\" at the end will indicate that the Dockerfile should only be used in development.    \n",
    "\n",
    "\n",
    "2. In Production: `npm run build`\n",
    "    - The naming convention will be maintained (Dockerfile) for production.\n",
    "    \n",
    "One thing to note is that if the Dockerfile is not exacttly, we must update the commands:\n",
    "- `docker build -f Dockerfile.dev .`"
   ]
  },
  {
   "cell_type": "markdown",
   "metadata": {},
   "source": [
    "## Duplicating Dependencies\n",
    "\n",
    "Note that you should delete any local dependencies installed if you will use the dependencies from Docker"
   ]
  },
  {
   "cell_type": "markdown",
   "metadata": {},
   "source": [
    "## Starting the Containers\n",
    "\n",
    "Remember that you need yo update the command if you are trying to link the Host with the Local Host on your machine\n",
    "- `docker run -p 3000:3000 4d671c024795`"
   ]
  },
  {
   "cell_type": "markdown",
   "metadata": {},
   "source": [
    "## Docker Volumes\n",
    "\n",
    "The goal is make changes in the file to be reflected on the localpage without having to stop the `docker run` and rebuilding the entire container.\n",
    "\n",
    "Recall that the Dockerfile has an explicit statement where the /src and /public are copied into the Docker Container WORKDIR!\n",
    "- <img src=\"./images/docker_23.png\" alt=\"Drawing\" style=\"width: 300px;\"/>\n",
    "\n",
    "`docker run -p 3000:3000 -v /app/node_modules -v$(pwd):/app <image id>`\n",
    "- `-v /app/node_modules` puts a bookmark on the node_modules folder\n",
    "- `-v$(pwd):/app` Map the pwd into the '/app' folder\n",
    "- **Note that using the `:` we are stating to map one folder to another. Hence, the info in `:app` directory should be used but reference the present working directory (pwd)**\n",
    "- Just remember that `WORKDIR` is a directory we specify Docker to include the files we are `COPY` from! (The `WORKDIR` could be any directory)\n"
   ]
  },
  {
   "cell_type": "markdown",
   "metadata": {},
   "source": [
    "## Shorthand with Docker Compose\n",
    "\n",
    "Recall that you need to create a docker-compose.yaml file to ensure you are passing the correct port and path reference!"
   ]
  },
  {
   "cell_type": "markdown",
   "metadata": {},
   "source": [
    "## Overriding Dockerfile Selection\n",
    "\n",
    "We made changes to the `docker-compose.yaml` and included additional arguments in the `build` parameter that inclide context and dockerfile."
   ]
  },
  {
   "cell_type": "markdown",
   "metadata": {},
   "source": [
    "## Executing Tests\n",
    "\n",
    "The important concept is to include the `it` flag so we can interact with the container!\n",
    "\n",
    "Remember that you can still execute commands that are not in the Dockerfile by appending it to the commmand in the termina\n",
    "- `docker run <id> npm run test` whereas the Dockerfile contains `docker run CMD [\"npm\", \"run\", \"start\"]`\n",
    "- Using the test command helps us test the file that we have... hoping that it passes the test!\n",
    "- When interacting (using the `it` flag) we can execute additional tests if they exist in the file"
   ]
  },
  {
   "cell_type": "markdown",
   "metadata": {},
   "source": [
    "## Live Updating Tests\n",
    "\n",
    "The issue arises when we create additional test while the Docker is running! It won't recieve any updates.\n",
    "\n",
    "There are two method to have live update tests - additional testing as the Docker is running\n",
    "- First Method\n",
    "    - `docker-compose up`\n",
    "    - As the docker is composed, use the ID (use `docker ps`)\n",
    "    - `docker exec it <id> npm run tests` \n",
    "- Second Method\n",
    "    - Check the following cell for a better solution! (still not perfect)"
   ]
  },
  {
   "cell_type": "markdown",
   "metadata": {},
   "source": [
    "## Docker Compose for Running Tests\n",
    " \n",
    "Update the \"docker-compose.yml\" file!\n",
    "- The code is updated. Once it is updated, you are able to see the changes with tests in terminal\n",
    "  "
   ]
  }
 ],
 "metadata": {
  "hide_input": false,
  "kernelspec": {
   "display_name": "Python 3",
   "language": "python",
   "name": "python3"
  },
  "language_info": {
   "codemirror_mode": {
    "name": "ipython",
    "version": 3
   },
   "file_extension": ".py",
   "mimetype": "text/x-python",
   "name": "python",
   "nbconvert_exporter": "python",
   "pygments_lexer": "ipython3",
   "version": "3.7.3"
  },
  "toc": {
   "base_numbering": 1,
   "nav_menu": {},
   "number_sections": false,
   "sideBar": true,
   "skip_h1_title": true,
   "title_cell": "Table of Contents",
   "title_sidebar": "Contents",
   "toc_cell": false,
   "toc_position": {
    "height": "calc(100% - 180px)",
    "left": "10px",
    "top": "150px",
    "width": "165px"
   },
   "toc_section_display": true,
   "toc_window_display": false
  },
  "varInspector": {
   "cols": {
    "lenName": 16,
    "lenType": 16,
    "lenVar": 40
   },
   "kernels_config": {
    "python": {
     "delete_cmd_postfix": "",
     "delete_cmd_prefix": "del ",
     "library": "var_list.py",
     "varRefreshCmd": "print(var_dic_list())"
    },
    "r": {
     "delete_cmd_postfix": ") ",
     "delete_cmd_prefix": "rm(",
     "library": "var_list.r",
     "varRefreshCmd": "cat(var_dic_list()) "
    }
   },
   "types_to_exclude": [
    "module",
    "function",
    "builtin_function_or_method",
    "instance",
    "_Feature"
   ],
   "window_display": false
  }
 },
 "nbformat": 4,
 "nbformat_minor": 2
}
